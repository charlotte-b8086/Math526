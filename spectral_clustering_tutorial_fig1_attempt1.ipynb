{
 "cells": [
  {
   "cell_type": "code",
   "execution_count": 3,
   "id": "ce6c3dd7-d968-4090-abe2-a1882016ccb5",
   "metadata": {},
   "outputs": [],
   "source": [
    "import numpy as np\n",
    "import matplotlib.pyplot as plt\n",
    "from numpy import random\n",
    "from sympy import Matrix\n",
    "from scipy.spatial import distance\n",
    "from sklearn.cluster import KMeans"
   ]
  },
  {
   "cell_type": "code",
   "execution_count": 55,
   "id": "c3826673-38ce-48ca-81fc-a2433da00f51",
   "metadata": {},
   "outputs": [
    {
     "data": {
      "image/png": "[encoded data removed]",
      "text/plain": [
       "<Figure size 640x480 with 1 Axes>"
      ]
     },
     "metadata": {},
     "output_type": "display_data"
    }
   ],
   "source": [
    "#True number of underlying clusters\n",
    "d = 2 \n",
    "\n",
    "#Assuming that each cluster is evenly spaced along the line y = x\n",
    "partitions = list(np.linspace(0, 1, d + 1))\n",
    "\n",
    "#True probability that the data is generated by each class\n",
    "categorical_weights = random.uniform(0, 1, 2)\n",
    "categorical_weights = categorical_weights/np.sum(categorical_weights)\n",
    "\n",
    "x = []\n",
    "y = []\n",
    "\n",
    "N = 20 #Number of points, number of rows in matrices\n",
    "\n",
    "#Generating sample points\n",
    "for i in np.arange(N):\n",
    "    #First determine which true cluster is generating the sample\n",
    "    category_sample = random.uniform()\n",
    "    temp = sorted(list(np.cumsum(categorical_weights)) + [category_sample])\n",
    "    category_index = list(temp).index(category_sample)\n",
    "    \n",
    "    #Then generate the point\n",
    "    x += [random.uniform(partitions[category_index], partitions[category_index + 1])]\n",
    "    y += [random.uniform(partitions[category_index], partitions[category_index + 1])]     \n",
    "    \n",
    "plt.plot(x, y, '.')\n",
    "samples = list(zip(x, y))"
   ]
  },
  {
   "cell_type": "code",
   "execution_count": 5,
   "id": "c4471565-dc22-4e7c-8949-08e5998c5e55",
   "metadata": {},
   "outputs": [],
   "source": [
    "#mean = random.uniform(0, 10, 4)\n",
    "#variances = random.uniform(0, 2.5, 4)\n",
    "#covar = np.diag(variances)\n",
    "#samples = [random.multivariate_normal(mean, covar) for i in np.arange(200)]"
   ]
  },
  {
   "cell_type": "code",
   "execution_count": 6,
   "id": "15c3ec5f-77ed-4ea7-9fcc-ceb3f3568688",
   "metadata": {},
   "outputs": [],
   "source": [
    "#categorical_weights = np.linspace(0.25, 1, 4)\n",
    "#categorical_weights\n",
    "#samples = []\n",
    "#for i in np.arange(16):\n",
    "#    categorical_weights = np.linspace(0.25, 1, 4)\n",
    "#    category_sample = random.uniform()\n",
    "#    temp = np.sort(np.append(categorical_weights, category_sample))\n",
    "#    category_index = list(temp).index(category_sample)\n",
    "#    samples.append(random.normal(mean[category_index], variances[category_index]))"
   ]
  },
  {
   "cell_type": "code",
   "execution_count": 56,
   "id": "99fbc5b4-7952-4f39-b0e1-6bf75fcbcbe0",
   "metadata": {},
   "outputs": [],
   "source": [
    "#Construct similarity matrix\n",
    "N = len(samples)\n",
    "sigma = 1 #Controls width of neighborhoods, set by user\n",
    "k = 2 #Number of clusters, set by user\n",
    "S = np.zeros((N, N))\n",
    "for i in np.arange(N):\n",
    "    for j in np.arange(N):\n",
    "        S[i, j] += np.exp(-distance.euclidean(samples[i], samples[j])/(2*sigma**2))"
   ]
  },
  {
   "cell_type": "code",
   "execution_count": 57,
   "id": "aec94b50-b042-49d7-8ff0-caa4eb633826",
   "metadata": {},
   "outputs": [],
   "source": [
    "diags = []\n",
    "for i in np.arange(N):\n",
    "    sum =0\n",
    "    for j in np.arange(N):\n",
    "        sum += np.sum(S[i, j])\n",
    "    diags += [sum]\n",
    "D = np.diag(diags)"
   ]
  },
  {
   "cell_type": "code",
   "execution_count": 58,
   "id": "9e1b4c94-572a-4709-bc16-4823c0b25b52",
   "metadata": {},
   "outputs": [],
   "source": [
    "L = Matrix(D-S)"
   ]
  },
  {
   "cell_type": "code",
   "execution_count": 59,
   "id": "def3a4fd-3b66-4a82-8bdc-77bfb6a2a58d",
   "metadata": {},
   "outputs": [],
   "source": [
    "sorted_evals = sorted(L.eigenvals().keys())\n",
    "k_evals = []\n",
    "l = 0\n",
    "while len(k_evals) < k:\n",
    "    if sorted_evals[l] > 1e-10:\n",
    "        k_evals.append(sorted_evals[l])\n",
    "    l += 1"
   ]
  },
  {
   "cell_type": "code",
   "execution_count": 60,
   "id": "dc4b226a-cc7b-4ce9-9e48-47a22bd01997",
   "metadata": {},
   "outputs": [],
   "source": [
    "V = Matrix(np.zeros((N, k)))\n",
    "i = 0\n",
    "for eval in k_evals:\n",
    "    for elem in L.eigenvects():\n",
    "        if elem[0] == eval:\n",
    "            V[:,i] = elem[2][0]\n",
    "            break\n",
    "    i += 1"
   ]
  },
  {
   "cell_type": "code",
   "execution_count": 61,
   "id": "bef0bafd-cfe6-4e88-a917-da72497b7abc",
   "metadata": {},
   "outputs": [],
   "source": [
    "kmeans = KMeans(n_clusters=k, random_state=0, n_init=\"auto\").fit(V)"
   ]
  },
  {
   "cell_type": "code",
   "execution_count": 63,
   "id": "3e40ca3b-4b9d-4bf7-9300-41472c2c9d7f",
   "metadata": {},
   "outputs": [
    {
     "data": {
      "image/png": "[encoded data removed]",
      "text/plain": [
       "<Figure size 640x480 with 1 Axes>"
      ]
     },
     "metadata": {},
     "output_type": "display_data"
    }
   ],
   "source": [
    "plt.scatter(x, y, c=kmeans.labels_)\n",
    "plt.show()"
   ]
  },
  {
   "cell_type": "code",
   "execution_count": null,
   "id": "c0d4bf48-8719-4290-80c9-8d4804516595",
   "metadata": {},
   "outputs": [],
   "source": []
  }
 ],
 "metadata": {
  "kernelspec": {
   "display_name": "Python 3 (ipykernel)",
   "language": "python",
   "name": "python3"
  },
  "language_info": {
   "codemirror_mode": {
    "name": "ipython",
    "version": 3
   },
   "file_extension": ".py",
   "mimetype": "text/x-python",
   "name": "python",
   "nbconvert_exporter": "python",
   "pygments_lexer": "ipython3",
   "version": "3.11.8"
  }
 },
 "nbformat": 4,
 "nbformat_minor": 5
}
